{
  "nbformat": 4,
  "nbformat_minor": 0,
  "metadata": {
    "colab": {
      "name": "My First Notebook",
      "provenance": [],
      "authorship_tag": "ABX9TyP+cxThnMY1LVF1S2pDdBUw",
      "include_colab_link": true
    },
    "kernelspec": {
      "name": "python3",
      "display_name": "Python 3"
    },
    "language_info": {
      "name": "python"
    }
  },
  "cells": [
    {
      "cell_type": "markdown",
      "metadata": {
        "id": "view-in-github",
        "colab_type": "text"
      },
      "source": [
        "<a href=\"https://colab.research.google.com/github/EvanLeeHoneyBee/my-notebooks/blob/main/My_First_Notebook.ipynb\" target=\"_parent\"><img src=\"https://colab.research.google.com/assets/colab-badge.svg\" alt=\"Open In Colab\"/></a>"
      ]
    },
    {
      "cell_type": "code",
      "execution_count": null,
      "metadata": {
        "id": "198cRyYAwg7K"
      },
      "outputs": [],
      "source": [
        ""
      ]
    },
    {
      "cell_type": "markdown",
      "source": [
        "this is some text\n",
        "\n",
        "we can write any language (like english)"
      ],
      "metadata": {
        "id": "Bt9BL8XmxDtw"
      }
    },
    {
      "cell_type": "markdown",
      "source": [
        ""
      ],
      "metadata": {
        "id": "tuRGf2gkxAG1"
      }
    },
    {
      "cell_type": "markdown",
      "source": [
        "# My Heading\n",
        "\n",
        "Writing normal sentences.\n",
        "\n",
        "## heading level 2\n",
        "\n",
        "Here is a list:\n",
        "+ Item 1\n",
        "+ Item 2\n",
        "+ Item 3\n",
        "\n",
        "numbered list:\n",
        "1. Item 1\n",
        "2. Item 2\n",
        "3. Item 3\n",
        "\n",
        "this is a link: [link name](https://www.google.com/)\n",
        "\n",
        "this is a code block (we'll use in README files)\n"
      ],
      "metadata": {
        "id": "cechKUqaxAmw"
      }
    },
    {
      "cell_type": "code",
      "source": [
        ""
      ],
      "metadata": {
        "id": "rm-Z_SHPx9_4"
      },
      "execution_count": null,
      "outputs": []
    }
  ]
}